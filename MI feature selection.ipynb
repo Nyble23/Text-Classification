{
  "nbformat": 4,
  "nbformat_minor": 0,
  "metadata": {
    "colab": {
      "name": "IR_Assgn5_MI.ipynb",
      "provenance": [],
      "collapsed_sections": []
    },
    "kernelspec": {
      "name": "python3",
      "display_name": "Python 3"
    },
    "accelerator": "TPU"
  },
  "cells": [
    {
      "cell_type": "code",
      "metadata": {
        "id": "Qdu9i5uJg9R9",
        "colab_type": "code",
        "outputId": "462c197e-6d8c-4a2e-d5ed-c89f9eaee764",
        "colab": {
          "base_uri": "https://localhost:8080/",
          "height": 122
        }
      },
      "source": [
        "from google.colab import drive\n",
        "drive.mount('/content/drive')"
      ],
      "execution_count": 0,
      "outputs": [
        {
          "output_type": "stream",
          "text": [
            "Go to this URL in a browser: https://accounts.google.com/o/oauth2/auth?client_id=947318989803-6bn6qk8qdgf4n4g3pfee6491hc0brc4i.apps.googleusercontent.com&redirect_uri=urn%3aietf%3awg%3aoauth%3a2.0%3aoob&response_type=code&scope=email%20https%3a%2f%2fwww.googleapis.com%2fauth%2fdocs.test%20https%3a%2f%2fwww.googleapis.com%2fauth%2fdrive%20https%3a%2f%2fwww.googleapis.com%2fauth%2fdrive.photos.readonly%20https%3a%2f%2fwww.googleapis.com%2fauth%2fpeopleapi.readonly\n",
            "\n",
            "Enter your authorization code:\n",
            "··········\n",
            "Mounted at /content/drive\n"
          ],
          "name": "stdout"
        }
      ]
    },
    {
      "cell_type": "code",
      "metadata": {
        "id": "aBRNvAf1As3E",
        "colab_type": "code",
        "colab": {}
      },
      "source": [
        "!unzip -q \"/content/drive/My Drive/20_newsgroups.zip\"\n",
        "# !unzip -q \"/content/newsgroups.zip\""
      ],
      "execution_count": 0,
      "outputs": []
    },
    {
      "cell_type": "code",
      "metadata": {
        "id": "Ggp3SKMyFKms",
        "colab_type": "code",
        "outputId": "0b64bce0-0b4f-47b4-c076-7d9c19aa8a9f",
        "colab": {
          "base_uri": "https://localhost:8080/",
          "height": 139
        }
      },
      "source": [
        "pip install num2words"
      ],
      "execution_count": 0,
      "outputs": [
        {
          "output_type": "stream",
          "text": [
            "Collecting num2words\n",
            "\u001b[?25l  Downloading https://files.pythonhosted.org/packages/eb/a2/ea800689730732e27711c41beed4b2a129b34974435bdc450377ec407738/num2words-0.5.10-py3-none-any.whl (101kB)\n",
            "\r\u001b[K     |███▎                            | 10kB 14.3MB/s eta 0:00:01\r\u001b[K     |██████▌                         | 20kB 2.2MB/s eta 0:00:01\r\u001b[K     |█████████▊                      | 30kB 2.8MB/s eta 0:00:01\r\u001b[K     |█████████████                   | 40kB 3.1MB/s eta 0:00:01\r\u001b[K     |████████████████▏               | 51kB 2.5MB/s eta 0:00:01\r\u001b[K     |███████████████████▍            | 61kB 2.9MB/s eta 0:00:01\r\u001b[K     |██████████████████████▋         | 71kB 3.1MB/s eta 0:00:01\r\u001b[K     |█████████████████████████▉      | 81kB 3.4MB/s eta 0:00:01\r\u001b[K     |█████████████████████████████   | 92kB 3.6MB/s eta 0:00:01\r\u001b[K     |████████████████████████████████| 102kB 2.7MB/s \n",
            "\u001b[?25hRequirement already satisfied: docopt>=0.6.2 in /usr/local/lib/python3.6/dist-packages (from num2words) (0.6.2)\n",
            "Installing collected packages: num2words\n",
            "Successfully installed num2words-0.5.10\n"
          ],
          "name": "stdout"
        }
      ]
    },
    {
      "cell_type": "code",
      "metadata": {
        "id": "eVXURtpNBLeC",
        "colab_type": "code",
        "colab": {}
      },
      "source": [
        "from collections import defaultdict\n",
        "from collections import Counter\n",
        "from num2words import num2words\n",
        "\n",
        "import re\n",
        "import os\n",
        "import math\n",
        "import nltk\n",
        "import numpy as np\n",
        "import heapq"
      ],
      "execution_count": 0,
      "outputs": []
    },
    {
      "cell_type": "markdown",
      "metadata": {
        "id": "3bosuiHWFS4L",
        "colab_type": "text"
      },
      "source": [
        "**pre-process data**"
      ]
    },
    {
      "cell_type": "code",
      "metadata": {
        "id": "QzX_PViEFPDI",
        "colab_type": "code",
        "colab": {}
      },
      "source": [
        "import re\n",
        "\n",
        "def pre_process(file):\n",
        "  f = open(file,'r',encoding=\"ISO-8859-1\")\n",
        "  data = f.readlines()\n",
        "  docs = []\n",
        "\n",
        "  for sent in data:\n",
        "    sent = re.sub(r'[\\.•,;:?!#=+$%^&*_~><\\-\\(\\)\\{\\}\\[\\]\\\"\\'\\|\\/]','',sent)\n",
        "    docs.append(sent.lower())\n",
        "  return docs"
      ],
      "execution_count": 0,
      "outputs": []
    },
    {
      "cell_type": "markdown",
      "metadata": {
        "id": "GiUXKTz3FaPn",
        "colab_type": "text"
      },
      "source": [
        "**number to words**"
      ]
    },
    {
      "cell_type": "code",
      "metadata": {
        "id": "tHbf6ZI7FXjQ",
        "colab_type": "code",
        "colab": {}
      },
      "source": [
        "def numberTowords(word):\n",
        "  if(word.isnumeric()):\n",
        "    return num2words(word)\n",
        "  else:\n",
        "    return word"
      ],
      "execution_count": 0,
      "outputs": []
    },
    {
      "cell_type": "markdown",
      "metadata": {
        "id": "xPGfWmp1FgiQ",
        "colab_type": "text"
      },
      "source": [
        "**remove stop-words**"
      ]
    },
    {
      "cell_type": "code",
      "metadata": {
        "id": "WCh7BbrlFeBt",
        "colab_type": "code",
        "outputId": "523cdb4e-a1ee-4b21-b491-6eeff7713a36",
        "colab": {
          "base_uri": "https://localhost:8080/",
          "height": 68
        }
      },
      "source": [
        "from nltk.corpus import stopwords\n",
        "nltk.download('stopwords')"
      ],
      "execution_count": 0,
      "outputs": [
        {
          "output_type": "stream",
          "text": [
            "[nltk_data] Downloading package stopwords to /root/nltk_data...\n",
            "[nltk_data]   Unzipping corpora/stopwords.zip.\n"
          ],
          "name": "stdout"
        },
        {
          "output_type": "execute_result",
          "data": {
            "text/plain": [
              "True"
            ]
          },
          "metadata": {
            "tags": []
          },
          "execution_count": 7
        }
      ]
    },
    {
      "cell_type": "code",
      "metadata": {
        "id": "LR-Eqo_fFjWX",
        "colab_type": "code",
        "colab": {}
      },
      "source": [
        "\n",
        "def removeStop(tokens):\n",
        "  stop = set(stopwords.words('english'))\n",
        "  f_tokens = []\n",
        "  \n",
        "  for w in tokens:\n",
        "    if w not in stop:\n",
        "      f_tokens.append(w)\n",
        "  \n",
        "  return f_tokens"
      ],
      "execution_count": 0,
      "outputs": []
    },
    {
      "cell_type": "markdown",
      "metadata": {
        "id": "MrJvSo28Fru3",
        "colab_type": "text"
      },
      "source": [
        "**generate tokens**"
      ]
    },
    {
      "cell_type": "code",
      "metadata": {
        "id": "0k3gdkB_FmHQ",
        "colab_type": "code",
        "outputId": "3560cac0-5db5-455e-9ad8-19cf21cd1ced",
        "colab": {
          "base_uri": "https://localhost:8080/",
          "height": 51
        }
      },
      "source": [
        "nltk.download('wordnet')\n",
        "from nltk.stem import WordNetLemmatizer\n",
        "\n",
        "lm = WordNetLemmatizer()"
      ],
      "execution_count": 0,
      "outputs": [
        {
          "output_type": "stream",
          "text": [
            "[nltk_data] Downloading package wordnet to /root/nltk_data...\n",
            "[nltk_data]   Unzipping corpora/wordnet.zip.\n"
          ],
          "name": "stdout"
        }
      ]
    },
    {
      "cell_type": "code",
      "metadata": {
        "id": "RpUBFHlyFuZ5",
        "colab_type": "code",
        "colab": {}
      },
      "source": [
        "def tokenise(docs):\n",
        "  i = 0\n",
        "  lem_words = []\n",
        "\n",
        "  for k in docs:\n",
        "    tokens = k.split()\n",
        "    f_tokens = removeStop(tokens)\n",
        "\n",
        "    for j in f_tokens:\n",
        "      lem_words.append(lm.lemmatize(j))\n",
        "    \n",
        "  return lem_words"
      ],
      "execution_count": 0,
      "outputs": []
    },
    {
      "cell_type": "markdown",
      "metadata": {
        "id": "mOwBug5xF61L",
        "colab_type": "text"
      },
      "source": [
        "**remove metadata**"
      ]
    },
    {
      "cell_type": "code",
      "metadata": {
        "id": "XXk3ghbKF1OX",
        "colab_type": "code",
        "colab": {}
      },
      "source": [
        "import re\n",
        "def meta_data(path,f):\n",
        "    output = []\n",
        "    with open(os.path.join(path,f),\"r+\",encoding=\"ISO-8859-1\") as fh:\n",
        "        for line in fh:\n",
        "            if not re.search(\"[\\w]+:\\s\",line):\n",
        "                output.append(line)\n",
        "        fh.close()\n",
        "\n",
        "        fh = open(os.path.join(path,f),\"w\")\n",
        "        fh.writelines(output)\n",
        "        fh.close()\n",
        "        newoutput=[]\n",
        "        fh=open(os.path.join(path,f),\"r+\",encoding=\"ISO-8859-1\")\n",
        "        for line in fh:\n",
        "            if not re.search(\"(--)+|(==)+\",line):\n",
        "                newoutput.append(line)\n",
        "            else:\n",
        "                break\n",
        "\n",
        "        fh.close()\n",
        "\n",
        "        fh = open(os.path.join(path,f),\"w\")\n",
        "        fh.seek(0)\n",
        "        fh.truncate()\n",
        "        fh.writelines(newoutput)\n",
        "        fh.close()"
      ],
      "execution_count": 0,
      "outputs": []
    },
    {
      "cell_type": "markdown",
      "metadata": {
        "id": "KRi4KOmtGAgN",
        "colab_type": "text"
      },
      "source": [
        "**mapping documents**"
      ]
    },
    {
      "cell_type": "code",
      "metadata": {
        "id": "mufN7mFWGZQj",
        "colab_type": "code",
        "colab": {}
      },
      "source": [
        "\n",
        "directory = [\"talk.politics.misc\",\"comp.graphics\",\"rec.sport.hockey\",\"sci.med\",\"sci.space\"]\n",
        "path = \"/content/20_newsgroups/\""
      ],
      "execution_count": 0,
      "outputs": []
    },
    {
      "cell_type": "code",
      "metadata": {
        "id": "3MI33iJSF9wj",
        "colab_type": "code",
        "outputId": "8ffa82fb-4b3d-4854-b6c5-0d69749d3698",
        "colab": {
          "base_uri": "https://localhost:8080/",
          "height": 34
        }
      },
      "source": [
        "mapping = defaultdict(lambda:None)\n",
        "\n",
        "count=0\n",
        "\n",
        "for d in directory:\n",
        "  flist = []\n",
        "  d_path = path+d                   # path that will lead us inside the directory\n",
        "  flist = os.listdir(d_path)        # this will list all the files in the folder 'd'    \n",
        "  for i in flist:\n",
        "    count = count+1\n",
        "    mapping[d+'/'+i] = str(count) + \"_\" + d\n",
        "\n",
        "print(len(mapping))"
      ],
      "execution_count": 0,
      "outputs": [
        {
          "output_type": "stream",
          "text": [
            "5000\n"
          ],
          "name": "stdout"
        }
      ]
    },
    {
      "cell_type": "markdown",
      "metadata": {
        "id": "TcSSalykGnGA",
        "colab_type": "text"
      },
      "source": [
        "**splitting data into train and test**"
      ]
    },
    {
      "cell_type": "code",
      "metadata": {
        "id": "t2VZu8vWGVlK",
        "colab_type": "code",
        "colab": {}
      },
      "source": [
        "# We are going to split the data class-wise, i.e., some random documents as training set\n",
        "# and some other random sample as testing set\n",
        "# Reference :: https://stackoverflow.com/questions/17412439/how-to-split-data-into-trainset-and-testset-randomly\n",
        "\n",
        "import random\n",
        "\n",
        "train_data = []\n",
        "test_data = []\n",
        "\n",
        "def split_train_test(ratio):\n",
        "  for d in directory:\n",
        "    flist = []\n",
        "    d_path = path+d                   # path that will lead us inside the directory\n",
        "    flist = os.listdir(d_path)        # this will list all the files in the folder 'd'\n",
        "\n",
        "    random.shuffle(flist)             #shuffling the files present in the class\n",
        "\n",
        "    train = flist[:int((len(flist)+1)*(ratio/100))]         #Remaining 80% to training set\n",
        "    test = flist[int(len(flist)*(ratio/100)):]\n",
        "\n",
        "    for i in train:\n",
        "      train_data.append(d+'/'+i)\n",
        "\n",
        "    for i in test:    \n",
        "      test_data.append(d+'/'+i)\n",
        "    \n",
        "  random.shuffle(train_data)\n",
        "  random.shuffle(test_data)"
      ],
      "execution_count": 0,
      "outputs": []
    },
    {
      "cell_type": "code",
      "metadata": {
        "id": "JexiEp9QGscP",
        "colab_type": "code",
        "colab": {}
      },
      "source": [
        "split_train_test(80)"
      ],
      "execution_count": 0,
      "outputs": []
    },
    {
      "cell_type": "markdown",
      "metadata": {
        "id": "dhifNuDlQPKk",
        "colab_type": "text"
      },
      "source": [
        "###TRAINING PART"
      ]
    },
    {
      "cell_type": "markdown",
      "metadata": {
        "id": "HUdmyNmDkkje",
        "colab_type": "text"
      },
      "source": [
        "**counting number of docs in each class**"
      ]
    },
    {
      "cell_type": "code",
      "metadata": {
        "id": "5oCNYbedkkVa",
        "colab_type": "code",
        "colab": {}
      },
      "source": [
        "file_count = defaultdict(lambda:0)\n",
        "\n",
        "for item in train_data:\n",
        "  d = item.split('/')[0]\n",
        "  file_count[d] += 1"
      ],
      "execution_count": 0,
      "outputs": []
    },
    {
      "cell_type": "markdown",
      "metadata": {
        "id": "_d6MDuXxMZ5x",
        "colab_type": "text"
      },
      "source": [
        "**Building tokens dictionaries**"
      ]
    },
    {
      "cell_type": "code",
      "metadata": {
        "id": "P3ocgU-ZMZVi",
        "colab_type": "code",
        "colab": {}
      },
      "source": [
        "def build_dictionaries(train_data):\n",
        "\n",
        "  vocab = set()\n",
        "  tokens_dict = defaultdict(list)                           #dictionary that stores tokens of each document\n",
        "  doc_list = defaultdict(list)\n",
        "  \n",
        "  for d in directory:\n",
        "    flist = []\n",
        "    d_path = path+d                   # path that will lead us inside the directory\n",
        "    flist = os.listdir(d_path)        # this will list all the files in the folder 'd'    \n",
        "    \n",
        "    for f in flist:\n",
        "      i = d+'/'+f\n",
        "      if i in train_data:\n",
        "        doc_list[d].append(f)\n",
        "\n",
        "        meta_data(d_path,f)\n",
        "        pre_p = pre_process(d_path+'/'+f)\n",
        "        lemmas = tokenise(pre_p)\n",
        "\n",
        "        for term in lemmas:\n",
        "          term = numberTowords(term)\n",
        "          vocab.add(term)\n",
        "          tokens_dict[i].append(term)\n",
        "\n",
        "  return tokens_dict,vocab,doc_list\n"
      ],
      "execution_count": 0,
      "outputs": []
    },
    {
      "cell_type": "code",
      "metadata": {
        "id": "DpAGOCuYl_wE",
        "colab_type": "code",
        "colab": {}
      },
      "source": [
        "\n",
        "tokens_dict,vocab,docs = build_dictionaries(train_data)"
      ],
      "execution_count": 0,
      "outputs": []
    },
    {
      "cell_type": "code",
      "metadata": {
        "id": "F8mefZdhcQeT",
        "colab_type": "code",
        "colab": {}
      },
      "source": [
        "def compute_n11():\n",
        "  N11 = defaultdict(lambda:defaultdict(lambda:0))\n",
        "\n",
        "  for d in directory:\n",
        "    for f in docs[d]:\n",
        "      for word in vocab:\n",
        "        if word in tokens_dict[d+'/'+f]:            \n",
        "          N11[d][word] += 1\n",
        "\n",
        "  return N11\n",
        "\n",
        "N11 = compute_n11()"
      ],
      "execution_count": 0,
      "outputs": []
    },
    {
      "cell_type": "markdown",
      "metadata": {
        "id": "08uRirNl57TU",
        "colab_type": "text"
      },
      "source": [
        "**Building MI table**"
      ]
    },
    {
      "cell_type": "code",
      "metadata": {
        "id": "zEgJbxeSseHV",
        "colab_type": "code",
        "colab": {}
      },
      "source": [
        "mi = defaultdict(lambda:defaultdict(lambda:0.0))\n",
        "\n",
        "def find_mi(word,label,n11,n01,n10,n00):\n",
        "  n = n11 + n01 + n10 + n00\n",
        "\n",
        "  t1 = math.log(( (n*n11)/((n11+n10)*(n01+n11)) ),2)\n",
        "  t1 = (n11/n) * t1\n",
        "\n",
        "  t2 = math.log(( (n*n01)/((n01+n00)*(n01+n11)) ),2)\n",
        "  t2 = (n01/n) * t2\n",
        "\n",
        "  t3 = math.log(( (n*n10)/((n11+n10)*(n10+n00)) ),2)\n",
        "  t3 = (n10/n) * t3\n",
        "\n",
        "  t4 = math.log(( (n*n00)/((n01+n00)*(n10+n00)) ),2)\n",
        "  t4 = (n00/n) * t4\n",
        "\n",
        "  mi[label][word] = t1 + t2 + t3 + t4"
      ],
      "execution_count": 0,
      "outputs": []
    },
    {
      "cell_type": "code",
      "metadata": {
        "id": "KFytHO_Mj8CM",
        "colab_type": "code",
        "colab": {}
      },
      "source": [
        "def build_mi_table():\n",
        "  for d in directory:\n",
        "    for word in vocab:\n",
        "      n11 = N11[d][word]\n",
        "      n01 = (file_count[d] - n11)\n",
        "\n",
        "      n10 = 0\n",
        "      f_count = 0\n",
        "      for d1 in directory:\n",
        "        if d1!=d:\n",
        "          n10 += N11[d1][word]\n",
        "          f_count += file_count[d1]\n",
        "\n",
        "      n00 = f_count - n10\n",
        "\n",
        "      find_mi(word,d,n11+1,n01+1,n10+1,n00+1)"
      ],
      "execution_count": 0,
      "outputs": []
    },
    {
      "cell_type": "code",
      "metadata": {
        "id": "V5RczFV8yNfN",
        "colab_type": "code",
        "colab": {}
      },
      "source": [
        "build_mi_table()"
      ],
      "execution_count": 0,
      "outputs": []
    },
    {
      "cell_type": "code",
      "metadata": {
        "id": "9tiV5-opqo38",
        "colab_type": "code",
        "outputId": "07c7cbbf-1094-4365-c657-6e85fcb2cda3",
        "colab": {
          "base_uri": "https://localhost:8080/",
          "height": 102
        }
      },
      "source": [
        "for d in directory:\n",
        "  print(len(mi[d]))"
      ],
      "execution_count": 0,
      "outputs": [
        {
          "output_type": "stream",
          "text": [
            "34477\n",
            "34477\n",
            "34477\n",
            "34477\n",
            "34477\n"
          ],
          "name": "stdout"
        }
      ]
    },
    {
      "cell_type": "markdown",
      "metadata": {
        "id": "5QIDcMWR6ApL",
        "colab_type": "text"
      },
      "source": [
        "**selecting features**"
      ]
    },
    {
      "cell_type": "code",
      "metadata": {
        "id": "7lCSWeCq6DdB",
        "colab_type": "code",
        "colab": {}
      },
      "source": [
        "def reduce_feature(k):\n",
        "  selected_features = defaultdict(list)\n",
        "\n",
        "  for d in directory:\n",
        "    toplist = heapq.nlargest(k, mi[d].items(), key=lambda x: x[1]) # x[1] because we want to sort according to 2nd value of the tuple\n",
        "\n",
        "    for i in toplist:\n",
        "      selected_features[d].append(i[0])\n",
        "\n",
        "  return selected_features"
      ],
      "execution_count": 0,
      "outputs": []
    },
    {
      "cell_type": "code",
      "metadata": {
        "id": "YgouXZX96cof",
        "colab_type": "code",
        "colab": {}
      },
      "source": [
        "k = 8000\n",
        "selected_features = reduce_feature(k)"
      ],
      "execution_count": 0,
      "outputs": []
    },
    {
      "cell_type": "markdown",
      "metadata": {
        "id": "PlPWJTop7osY",
        "colab_type": "text"
      },
      "source": [
        "**Selected feature space**"
      ]
    },
    {
      "cell_type": "code",
      "metadata": {
        "id": "mjZqD4p16aHl",
        "colab_type": "code",
        "colab": {}
      },
      "source": [
        "def build_vocab():\n",
        "  new_vocab = set()\n",
        "\n",
        "  for d in directory:\n",
        "    for i in selected_features[d]:\n",
        "      new_vocab.add(i)\n",
        "  \n",
        "  return new_vocab\n",
        "\n",
        "new_vocab = build_vocab()"
      ],
      "execution_count": 0,
      "outputs": []
    },
    {
      "cell_type": "markdown",
      "metadata": {
        "id": "nVWu1XO5k3Ap",
        "colab_type": "text"
      },
      "source": [
        "Reduced tokens"
      ]
    },
    {
      "cell_type": "code",
      "metadata": {
        "id": "n4aEq1n58UOb",
        "colab_type": "code",
        "colab": {}
      },
      "source": [
        "def generate_tokens():\n",
        "  class_tokens = defaultdict(list)\n",
        "\n",
        "  for d in directory:\n",
        "    for f in docs[d]:\n",
        "      for word in tokens_dict[d+'/'+f]:\n",
        "        if word in new_vocab:\n",
        "          class_tokens[d].append(word)\n",
        "    \n",
        "  return class_tokens\n",
        "\n",
        "class_tokens = generate_tokens()"
      ],
      "execution_count": 0,
      "outputs": []
    },
    {
      "cell_type": "markdown",
      "metadata": {
        "id": "9eVS_LxM1kRH",
        "colab_type": "text"
      },
      "source": [
        "###CLASSIFICATION of TEST DATA"
      ]
    },
    {
      "cell_type": "markdown",
      "metadata": {
        "id": "waI6Lr-RQYeI",
        "colab_type": "text"
      },
      "source": [
        "###### NAIVE BAYES"
      ]
    },
    {
      "cell_type": "markdown",
      "metadata": {
        "id": "Fzppxgon9cbi",
        "colab_type": "text"
      },
      "source": [
        "Calculating probabilities"
      ]
    },
    {
      "cell_type": "code",
      "metadata": {
        "id": "ArQaEnqkAvWM",
        "colab_type": "code",
        "colab": {}
      },
      "source": [
        "#used add-one smoothing\n",
        "def store_prob():\n",
        "\n",
        "  log_prob = defaultdict(lambda:defaultdict(lambda:0.0))\n",
        "\n",
        "  for word in new_vocab:\n",
        "    for d in directory:\n",
        "      count_word = Counter(class_tokens[d])[word] + 1\n",
        "      count_token = len(class_tokens[d]) + len(new_vocab)\n",
        "      \n",
        "      p_w = np.log((count_word*1.0/count_token))      \n",
        "      log_prob[word][d] = p_w\n",
        "    \n",
        "  return log_prob\n",
        "\n",
        "log_prob = store_prob()"
      ],
      "execution_count": 0,
      "outputs": []
    },
    {
      "cell_type": "markdown",
      "metadata": {
        "id": "dt3J2o2KQz_T",
        "colab_type": "text"
      },
      "source": [
        " > **1. Naive Bayes**"
      ]
    },
    {
      "cell_type": "markdown",
      "metadata": {
        "id": "fcVX5Ha88ysF",
        "colab_type": "text"
      },
      "source": [
        "**Plotting the results**"
      ]
    },
    {
      "cell_type": "code",
      "metadata": {
        "id": "McoxnJjY828S",
        "colab_type": "code",
        "colab": {}
      },
      "source": [
        "from sklearn.metrics import confusion_matrix\n",
        "\n",
        "def heat_plot(y_true,y_pred,matrix):\n",
        "  \n",
        "  labels = [\"rec.sport.hockey\",\"sci.med\",\"comp.graphics\",\"sci.space\",\"talk.politics.misc\"]\n",
        "\n",
        "  fig = plt.figure()\n",
        "  ax = fig.add_subplot(111)\n",
        "  cax = ax.matshow(matrix,cmap = 'tab20c')\n",
        "  fig.colorbar(cax)\n",
        "  ax.set_fc('y')\n",
        "  ax.set_xticklabels([''] + labels,rotation=30)\n",
        "  ax.set_yticklabels([''] + labels)\n",
        "\n",
        "  # Loop over data dimensions and create text annotations.\n",
        "  for i in range(5):\n",
        "      for j in range(5):\n",
        "          text = ax.text(j, i, matrix[i, j],ha=\"center\", va=\"center\", color=\"w\")\n",
        "  plt.xlabel('Predicted')\n",
        "  plt.ylabel('True')\n",
        "  plt.show()\n"
      ],
      "execution_count": 0,
      "outputs": []
    },
    {
      "cell_type": "markdown",
      "metadata": {
        "id": "A4e2Xl9g1olo",
        "colab_type": "text"
      },
      "source": [
        "**Predicting the test set**\n",
        "\n",
        "\n"
      ]
    },
    {
      "cell_type": "code",
      "metadata": {
        "id": "Pp14CxAtB90Q",
        "colab_type": "code",
        "colab": {}
      },
      "source": [
        "from sklearn.metrics import confusion_matrix\n",
        "import matplotlib.pyplot as plt\n",
        "\n",
        "def predict_class_NB(test_data):\n",
        "  p_c = np.log((1/5))                       # because each class is equally likely\n",
        "  correct = 0\n",
        "  y_true=[]\n",
        "  y_pred=[]\n",
        "\n",
        "  print(\"Split ratio of the data set = 80:20\")\n",
        "  for item in test_data:\n",
        "    \n",
        "    output_prob = []\n",
        "\n",
        "    d = mapping[item].split('_')[1]          # fetching the directory name from the mapping dict\n",
        "    label = d\n",
        "    # print(\"True Label =\",label)\n",
        "\n",
        "    d_path = path + d                        # path that will lead us inside the directory\n",
        "    f = item.split('/')[1]                   # fetching file name from the item in train_data\n",
        "    \n",
        "    meta_data(d_path,f)\n",
        "    pre_p = pre_process(d_path+'/'+f)\n",
        "    lemmas = tokenise(pre_p)\n",
        "\n",
        "    for d in directory:\n",
        "      prob = 0\n",
        "      for term in lemmas:\n",
        "        term = numberTowords(term)\n",
        "\n",
        "        if(term in new_vocab):\n",
        "          prob += log_prob[term][d]\n",
        "        else:\n",
        "          prob += np.log(1.0/(len(class_tokens[d]) + len(new_vocab)))\n",
        "      prob += p_c\n",
        "      output_prob.append((prob,d))\n",
        "\n",
        "    #print(output_prob)\n",
        "    predicted = max(output_prob)[1]\n",
        "\n",
        "    # print(\"predicted =\", predicted)\n",
        "\n",
        "    if(predicted == label):\n",
        "      correct +=1\n",
        "    y_true.append(label)\n",
        "    y_pred.append(predicted)\n",
        "\n",
        "  print(\"Number of features selected using MI technique = \",k)\n",
        "  print(\"\\nTotal number of documents tested =\",len(test_data))\n",
        "  print(\"Number of documents correctly predicted =\",correct)\n",
        "  \n",
        "  print(\"Accuracy = \", correct/len(test_data)*100)\n",
        "  c = confusion_matrix(y_true, y_pred, labels=directory)\n",
        "  print(\"\\nConfusion matrix::\\n\",c)\n",
        "  print()\n",
        "  heat_plot(y_true,y_pred,c)\n"
      ],
      "execution_count": 0,
      "outputs": []
    },
    {
      "cell_type": "code",
      "metadata": {
        "id": "tL5OonCYE-tb",
        "colab_type": "code",
        "outputId": "5fca95ab-6f8e-436e-9fd1-337b714c49b1",
        "colab": {
          "base_uri": "https://localhost:8080/",
          "height": 558
        }
      },
      "source": [
        "predict_class_NB(test_data)"
      ],
      "execution_count": 0,
      "outputs": [
        {
          "output_type": "stream",
          "text": [
            "Split ratio of the data set = 80:20\n",
            "Number of features selected using MI technique =  8000\n",
            "\n",
            "Total number of documents tested = 1000\n",
            "Number of documents correctly predicted = 919\n",
            "Accuracy =  91.9\n",
            "\n",
            "Confusion matrix::\n",
            " [[195   1   0   2   2]\n",
            " [  4 188   1   2   5]\n",
            " [ 12   3 184   0   1]\n",
            " [ 14   4   2 173   7]\n",
            " [  8  10   0   3 179]]\n",
            "\n"
          ],
          "name": "stdout"
        },
        {
          "output_type": "display_data",
          "data": {
            "image/png": "[encoded data removed]",
            "text/plain": [
              "<Figure size 432x288 with 2 Axes>"
            ]
          },
          "metadata": {
            "tags": [],
            "needs_background": "light"
          }
        }
      ]
    },
    {
      "cell_type": "markdown",
      "metadata": {
        "id": "FuyoAWie1dpD",
        "colab_type": "text"
      },
      "source": [
        "######K-NN"
      ]
    },
    {
      "cell_type": "markdown",
      "metadata": {
        "id": "6DdSBG0RQ83_",
        "colab_type": "text"
      },
      "source": [
        "> **2. K-Nearest Neighbour**"
      ]
    },
    {
      "cell_type": "markdown",
      "metadata": {
        "id": "Boz-VQhoDVMq",
        "colab_type": "text"
      },
      "source": [
        "**computing tf**"
      ]
    },
    {
      "cell_type": "code",
      "metadata": {
        "id": "MOtSxZ831gCL",
        "colab_type": "code",
        "colab": {}
      },
      "source": [
        "def build_tf(train_data):\n",
        "  tf = defaultdict(lambda:defaultdict(lambda:0))\n",
        "  doc_list = defaultdict(list)\n",
        "\n",
        "  for d in directory:\n",
        "    # print(d)\n",
        "    flist = []\n",
        "    d_path = path+d                   # path that will lead us inside the directory\n",
        "    flist = os.listdir(d_path)        # this will list all the files in the folder 'd'    \n",
        "    \n",
        "    for f in flist:\n",
        "      i = d+'/'+f\n",
        "      # print(i)\n",
        "      if i in train_data:\n",
        "        doc_list[d].append(f)\n",
        "        sf = selected_features[d]\n",
        "\n",
        "        meta_data(d_path,f)\n",
        "        pre_p = pre_process(d_path+'/'+f)\n",
        "        lemmas = tokenise(pre_p)\n",
        "\n",
        "        for term in lemmas:\n",
        "          term = numberTowords(term)\n",
        "\n",
        "          if term in sf:\n",
        "            tf[i][term] +=1\n",
        "\n",
        "  return tf,doc_list"
      ],
      "execution_count": 0,
      "outputs": []
    },
    {
      "cell_type": "code",
      "metadata": {
        "id": "FtCN2D-6DaI8",
        "colab_type": "code",
        "colab": {}
      },
      "source": [
        "tf_dict,docs = build_tf(train_data)"
      ],
      "execution_count": 0,
      "outputs": []
    },
    {
      "cell_type": "markdown",
      "metadata": {
        "id": "Eq05Kk0t2Dwv",
        "colab_type": "text"
      },
      "source": [
        "**Generate Document vector**"
      ]
    },
    {
      "cell_type": "code",
      "metadata": {
        "id": "szAcGpYTnAIi",
        "colab_type": "code",
        "colab": {}
      },
      "source": [
        "def document_vector(file):\n",
        "  tf_values = tf_dict[file]\n",
        "  d_vector = np.zeros(len(new_vocab))\n",
        "  \n",
        "  for pos,w in enumerate(new_vocab):\n",
        "    d_vector[pos] = tf_values[w]\n",
        "  \n",
        "  return d_vector\n"
      ],
      "execution_count": 0,
      "outputs": []
    },
    {
      "cell_type": "markdown",
      "metadata": {
        "id": "_FcnGzjwBKxE",
        "colab_type": "text"
      },
      "source": [
        "**Generate test vector**"
      ]
    },
    {
      "cell_type": "code",
      "metadata": {
        "id": "5fwJvV--v9bZ",
        "colab_type": "code",
        "colab": {}
      },
      "source": [
        "def test_vector(file_path):\n",
        "  test_tf = defaultdict(lambda:0)\n",
        "\n",
        "  pre_p = pre_process(file_path)\n",
        "  lemmas = tokenise(pre_p)\n",
        "\n",
        "  for w in lemmas:\n",
        "    w = numberTowords(w)\n",
        "    test_tf[w] +=1\n",
        "  \n",
        "  t_vector = np.zeros(len(new_vocab))\n",
        "\n",
        "  for pos,w in enumerate(new_vocab):\n",
        "    t_vector[pos] = test_tf[w]\n",
        "\n",
        "  return t_vector"
      ],
      "execution_count": 0,
      "outputs": []
    },
    {
      "cell_type": "markdown",
      "metadata": {
        "id": "YuV2rOAP2HaO",
        "colab_type": "text"
      },
      "source": [
        "**Compute euclidean distance**"
      ]
    },
    {
      "cell_type": "code",
      "metadata": {
        "id": "r-Rtsnk1wZko",
        "colab_type": "code",
        "colab": {}
      },
      "source": [
        "def compute_euclidean(t_vector,d_vector):\n",
        "  diff = t_vector - d_vector\n",
        "  diff = diff * diff\n",
        "\n",
        "  dist = np.sqrt(np.sum(diff))\n",
        "\n",
        "  return dist"
      ],
      "execution_count": 0,
      "outputs": []
    },
    {
      "cell_type": "markdown",
      "metadata": {
        "id": "5lfG4wbpBPBm",
        "colab_type": "text"
      },
      "source": [
        "**Classifying the test data**"
      ]
    },
    {
      "cell_type": "code",
      "metadata": {
        "id": "pdQ49UlVD6rN",
        "colab_type": "code",
        "colab": {}
      },
      "source": [
        "def knn(k,result):\n",
        "  prediction = []\n",
        "\n",
        "  res = heapq.nsmallest(k, result, key=lambda x: x[0])\n",
        "  \n",
        "  for i in res:\n",
        "    predicted = i[1].split('/')[0]\n",
        "    prediction.append(predicted)\n",
        "    \n",
        "  return prediction"
      ],
      "execution_count": 0,
      "outputs": []
    },
    {
      "cell_type": "code",
      "metadata": {
        "id": "_ZUwkIsDJ03j",
        "colab_type": "code",
        "colab": {}
      },
      "source": [
        "def predict_class_knn(test_data):\n",
        "  \n",
        "  print(\"\\nRESULTS OF K-NN FOR k =\",5,\"\\n\")\n",
        "  correct = 0\n",
        "  y_true = []\n",
        "  y_pred = []\n",
        "  n=3\n",
        "  print(\"Split ratio of the data set = 80:20\")\n",
        "\n",
        "  for item in test_data:\n",
        "\n",
        "    d = item.split('/')[0]                   # fetching the directory name from the mapping dict\n",
        "    f = item.split('/')[1]                   # fetching file name from the item in train_data\n",
        "\n",
        "    label = d\n",
        "    y_true.append(label)\n",
        "    # print(\"\\nTrue Label =\",label)\n",
        "\n",
        "    d_path = path + d                        # path that will lead us inside the directory\n",
        "\n",
        "    t_vector = test_vector(d_path+'/'+f)            # generate test vector\n",
        "    output_dist = []\n",
        "    \n",
        "    for d in directory:\n",
        "      for f in docs[d]:\n",
        "        d_vector = document_vector(d+'/'+f)\n",
        "\n",
        "        dist = compute_euclidean(t_vector,d_vector)\n",
        "        output_dist.append((dist,d+'/'+f))\n",
        "\n",
        "    result = knn(n,output_dist)\n",
        "    predicted = max(set(result), key = result.count)          #finds the class that occurs max times\n",
        "    y_pred.append(predicted)\n",
        "    # print(\"Predicted Label = \",predicted)\n",
        "\n",
        "    if(predicted==label):\n",
        "      correct+=1\n",
        "\n",
        "  print(\"Number of features selected using MI technique = \",k)\n",
        "  print(\"\\nTotal number of documents tested =\",len(test_data))\n",
        "  print(\"Number of documents correctly predicted =\",correct)\n",
        "  \n",
        "  print(\"Accuracy = \", correct/len(test_data)*100)\n",
        "  c = confusion_matrix(y_true, y_pred, labels=directory)\n",
        "  print(\"\\nConfusion matrix::\\n\",c)\n",
        "  print()\n",
        "  heat_plot(y_true,y_pred,c)"
      ],
      "execution_count": 0,
      "outputs": []
    },
    {
      "cell_type": "code",
      "metadata": {
        "id": "4BcfIw3ZEN8u",
        "colab_type": "code",
        "colab": {}
      },
      "source": [
        "small = ['comp.graphics/39048', 'talk.politics.misc/178774', 'talk.politics.misc/176996', 'rec.sport.hockey/53867']\n",
        "\n",
        "predict_class_knn(small)"
      ],
      "execution_count": 0,
      "outputs": []
    },
    {
      "cell_type": "code",
      "metadata": {
        "id": "LE09maHFpNIQ",
        "colab_type": "code",
        "colab": {}
      },
      "source": [
        "predict_class_knn(test_data)"
      ],
      "execution_count": 0,
      "outputs": []
    },
    {
      "cell_type": "code",
      "metadata": {
        "id": "KJFvpaeA5mGZ",
        "colab_type": "code",
        "colab": {}
      },
      "source": [
        ""
      ],
      "execution_count": 0,
      "outputs": []
    }
  ]
}