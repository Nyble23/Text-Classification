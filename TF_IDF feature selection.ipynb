{
  "nbformat": 4,
  "nbformat_minor": 0,
  "metadata": {
    "colab": {
      "name": "IR_Assgn5_TF-IDF.ipynb",
      "provenance": [],
      "collapsed_sections": []
    },
    "kernelspec": {
      "name": "python3",
      "display_name": "Python 3"
    },
    "accelerator": "TPU"
  },
  "cells": [
    {
      "cell_type": "code",
      "metadata": {
        "id": "xcfRrrLY98yV",
        "colab_type": "code",
        "colab": {}
      },
      "source": [
        "# !pip install ipython-autotime\n",
        "# %load_ext autotime"
      ],
      "execution_count": 0,
      "outputs": []
    },
    {
      "cell_type": "code",
      "metadata": {
        "id": "s1wdjuzNrnt2",
        "colab_type": "code",
        "outputId": "5176ff50-d38f-4d94-d2f3-afe53130b61d",
        "colab": {
          "base_uri": "https://localhost:8080/",
          "height": 122
        }
      },
      "source": [
        "#command to mount drive\n",
        "from google.colab import drive\n",
        "drive.mount('/content/drive')"
      ],
      "execution_count": 1,
      "outputs": [
        {
          "output_type": "stream",
          "text": [
            "Go to this URL in a browser: https://accounts.google.com/o/oauth2/auth?client_id=947318989803-6bn6qk8qdgf4n4g3pfee6491hc0brc4i.apps.googleusercontent.com&redirect_uri=urn%3aietf%3awg%3aoauth%3a2.0%3aoob&response_type=code&scope=email%20https%3a%2f%2fwww.googleapis.com%2fauth%2fdocs.test%20https%3a%2f%2fwww.googleapis.com%2fauth%2fdrive%20https%3a%2f%2fwww.googleapis.com%2fauth%2fdrive.photos.readonly%20https%3a%2f%2fwww.googleapis.com%2fauth%2fpeopleapi.readonly\n",
            "\n",
            "Enter your authorization code:\n",
            "··········\n",
            "Mounted at /content/drive\n"
          ],
          "name": "stdout"
        }
      ]
    },
    {
      "cell_type": "code",
      "metadata": {
        "id": "W91TvW5KzEN9",
        "colab_type": "code",
        "colab": {}
      },
      "source": [
        " #command to load dataset from drive\n",
        " !unzip -q \"/content/drive/My Drive/20_newsgroups.zip\"\n",
        "#!unzip -q \"/content/20_newsgroups.zip\""
      ],
      "execution_count": 0,
      "outputs": []
    },
    {
      "cell_type": "code",
      "metadata": {
        "id": "2UUdhmfH0voa",
        "colab_type": "code",
        "outputId": "eeca3571-28f2-4498-a8cc-cd379c92246c",
        "colab": {
          "base_uri": "https://localhost:8080/",
          "height": 139
        }
      },
      "source": [
        "pip install num2words"
      ],
      "execution_count": 3,
      "outputs": [
        {
          "output_type": "stream",
          "text": [
            "Collecting num2words\n",
            "\u001b[?25l  Downloading https://files.pythonhosted.org/packages/eb/a2/ea800689730732e27711c41beed4b2a129b34974435bdc450377ec407738/num2words-0.5.10-py3-none-any.whl (101kB)\n",
            "\u001b[K     |████████████████████████████████| 102kB 2.5MB/s \n",
            "\u001b[?25hRequirement already satisfied: docopt>=0.6.2 in /usr/local/lib/python3.6/dist-packages (from num2words) (0.6.2)\n",
            "Installing collected packages: num2words\n",
            "Successfully installed num2words-0.5.10\n"
          ],
          "name": "stdout"
        }
      ]
    },
    {
      "cell_type": "code",
      "metadata": {
        "id": "aTCqTUsY0zH6",
        "colab_type": "code",
        "colab": {}
      },
      "source": [
        "from collections import defaultdict\n",
        "from collections import Counter\n",
        "from num2words import num2words\n",
        "\n",
        "import re\n",
        "import os\n",
        "import math\n",
        "import nltk\n",
        "import numpy as np\n",
        "import heapq\n",
        "import matplotlib.pyplot as plt\n"
      ],
      "execution_count": 0,
      "outputs": []
    },
    {
      "cell_type": "markdown",
      "metadata": {
        "id": "fgGqY_H-09hC",
        "colab_type": "text"
      },
      "source": [
        "**pre-process data**"
      ]
    },
    {
      "cell_type": "code",
      "metadata": {
        "id": "amWnaqaa06HI",
        "colab_type": "code",
        "colab": {}
      },
      "source": [
        "import re\n",
        "\n",
        "def pre_process(filet):\n",
        "  f = open(filet,'r',encoding=\"ISO-8859-1\")\n",
        "  data = f.readlines()\n",
        "  docs = []\n",
        "\n",
        "  for sent in data:\n",
        "    sent = re.sub(r'[\\.•,;:?!#=+$%^&*_~><\\-\\(\\)\\{\\}\\[\\]\\\"\\'\\|\\/]','',sent)\n",
        "    sent = re.sub('\\n',' ',sent)\n",
        "    docs.append(sent.lower())\n",
        "  return docs"
      ],
      "execution_count": 0,
      "outputs": []
    },
    {
      "cell_type": "markdown",
      "metadata": {
        "id": "cJKPjKth1Aix",
        "colab_type": "text"
      },
      "source": [
        "**number to words**"
      ]
    },
    {
      "cell_type": "code",
      "metadata": {
        "id": "eSGDaLxX1DWB",
        "colab_type": "code",
        "colab": {}
      },
      "source": [
        "def numberTowords(wordt):\n",
        "  if(wordt.isnumeric()):\n",
        "    return num2words(wordt)\n",
        "  else:\n",
        "    return wordt"
      ],
      "execution_count": 0,
      "outputs": []
    },
    {
      "cell_type": "markdown",
      "metadata": {
        "id": "o-Mdp5HD1JIb",
        "colab_type": "text"
      },
      "source": [
        "**remove stop-words**"
      ]
    },
    {
      "cell_type": "code",
      "metadata": {
        "id": "fDp_0_xs1IjW",
        "colab_type": "code",
        "outputId": "d105946f-0ac1-469a-abb1-4e9c1fb969e8",
        "colab": {
          "base_uri": "https://localhost:8080/",
          "height": 68
        }
      },
      "source": [
        "from nltk.corpus import stopwords\n",
        "nltk.download('stopwords')"
      ],
      "execution_count": 7,
      "outputs": [
        {
          "output_type": "stream",
          "text": [
            "[nltk_data] Downloading package stopwords to /root/nltk_data...\n",
            "[nltk_data]   Unzipping corpora/stopwords.zip.\n"
          ],
          "name": "stdout"
        },
        {
          "output_type": "execute_result",
          "data": {
            "text/plain": [
              "True"
            ]
          },
          "metadata": {
            "tags": []
          },
          "execution_count": 7
        }
      ]
    },
    {
      "cell_type": "code",
      "metadata": {
        "id": "XF8MN-cT1Pm6",
        "colab_type": "code",
        "colab": {}
      },
      "source": [
        "def removeStop(tokenst):\n",
        "  stop = set(stopwords.words('english'))\n",
        "  f_tokens = []\n",
        "  \n",
        "  for w in tokenst:\n",
        "    if w not in stop:\n",
        "      f_tokens.append(w)\n",
        "  \n",
        "  return f_tokens"
      ],
      "execution_count": 0,
      "outputs": []
    },
    {
      "cell_type": "markdown",
      "metadata": {
        "id": "XYvcVXjD1SNX",
        "colab_type": "text"
      },
      "source": [
        "**generate tokens**"
      ]
    },
    {
      "cell_type": "code",
      "metadata": {
        "id": "KJtQDHoY1Su8",
        "colab_type": "code",
        "outputId": "58738010-f75f-4e0f-a078-552435f4b5b4",
        "colab": {
          "base_uri": "https://localhost:8080/",
          "height": 51
        }
      },
      "source": [
        "nltk.download('wordnet')\n",
        "from nltk.stem import WordNetLemmatizer\n",
        "\n",
        "lm = WordNetLemmatizer()"
      ],
      "execution_count": 9,
      "outputs": [
        {
          "output_type": "stream",
          "text": [
            "[nltk_data] Downloading package wordnet to /root/nltk_data...\n",
            "[nltk_data]   Unzipping corpora/wordnet.zip.\n"
          ],
          "name": "stdout"
        }
      ]
    },
    {
      "cell_type": "code",
      "metadata": {
        "id": "RU4GEW4h1X1D",
        "colab_type": "code",
        "colab": {}
      },
      "source": [
        "def tokenise(docst):\n",
        "  i = 0\n",
        "  lem_words = []\n",
        "\n",
        "  for k in docst:\n",
        "    tokens = k.split()\n",
        "    f_tokens = removeStop(tokens)\n",
        "    \n",
        "    for j in f_tokens:\n",
        "      lem_words.append(lm.lemmatize(j))\n",
        "    \n",
        "  return lem_words"
      ],
      "execution_count": 0,
      "outputs": []
    },
    {
      "cell_type": "markdown",
      "metadata": {
        "id": "o5qX28mp1ao4",
        "colab_type": "text"
      },
      "source": [
        "**remove-metadata**"
      ]
    },
    {
      "cell_type": "code",
      "metadata": {
        "id": "3adCj9KT1a8e",
        "colab_type": "code",
        "colab": {}
      },
      "source": [
        "import re\n",
        "def meta_data(path,f):\n",
        "    output = []\n",
        "    with open(os.path.join(path,f),\"r+\",encoding=\"ISO-8859-1\") as fh:\n",
        "        for line in fh:\n",
        "            if not re.search(\"[\\w]+:\\s\",line):\n",
        "                output.append(line)\n",
        "        fh.close()\n",
        "\n",
        "        fh = open(os.path.join(path,f),\"w\")\n",
        "        fh.writelines(output)\n",
        "        fh.close()\n",
        "        newoutput=[]\n",
        "        fh=open(os.path.join(path,f),\"r+\",encoding=\"ISO-8859-1\")\n",
        "        for line in fh:\n",
        "            if not re.search(\"(--)+|(==)+\",line):\n",
        "                newoutput.append(line)\n",
        "            else:\n",
        "                break\n",
        "\n",
        "        fh.close()\n",
        "\n",
        "        fh = open(os.path.join(path,f),\"w\")\n",
        "        fh.seek(0)\n",
        "        fh.truncate()\n",
        "        fh.writelines(newoutput)\n",
        "        fh.close()"
      ],
      "execution_count": 0,
      "outputs": []
    },
    {
      "cell_type": "markdown",
      "metadata": {
        "id": "9_7PrDibxkvZ",
        "colab_type": "text"
      },
      "source": [
        "\n",
        "**Mapping documents**"
      ]
    },
    {
      "cell_type": "code",
      "metadata": {
        "id": "mwkbsuUU1jZG",
        "colab_type": "code",
        "colab": {}
      },
      "source": [
        "directory = [\"rec.sport.hockey\",\"sci.med\",\"comp.graphics\",\"sci.space\",\"talk.politics.misc\"]\n",
        "path = \"/content/20_newsgroups/\"\n"
      ],
      "execution_count": 0,
      "outputs": []
    },
    {
      "cell_type": "code",
      "metadata": {
        "id": "INxzbZRNxkkT",
        "colab_type": "code",
        "outputId": "7bf226e4-fabd-43ce-f663-bbe51d8358be",
        "colab": {
          "base_uri": "https://localhost:8080/",
          "height": 34
        }
      },
      "source": [
        "mapping = defaultdict(str)\n",
        "\n",
        "count=0\n",
        "\n",
        "for d in directory:\n",
        "  flist = []\n",
        "  d_path = path+d                   # path that will lead us inside the directory\n",
        "  flist = os.listdir(d_path)        # this will list all the files in the folder 'd'    \n",
        "  for i in flist:\n",
        "    count = count+1\n",
        "    mapping[d+'/'+i] = str(count) + \"_\" + d\n",
        "\n",
        "print(len(mapping))"
      ],
      "execution_count": 13,
      "outputs": [
        {
          "output_type": "stream",
          "text": [
            "5000\n"
          ],
          "name": "stdout"
        }
      ]
    },
    {
      "cell_type": "markdown",
      "metadata": {
        "id": "sfYHt81U0CTQ",
        "colab_type": "text"
      },
      "source": [
        "**Splitting into train and test data**"
      ]
    },
    {
      "cell_type": "code",
      "metadata": {
        "id": "_jq7S5W40Bv6",
        "colab_type": "code",
        "colab": {}
      },
      "source": [
        "# We are going to split the data class-wise, i.e., some random documents as training set\n",
        "# and some other random sample as testing set\n",
        "# Reference :: https://stackoverflow.com/questions/17412439/how-to-split-data-into-trainset-and-testset-randomly\n",
        "\n",
        "import random\n",
        "\n",
        "train_data = []\n",
        "test_data = []\n",
        "\n",
        "def split_train_test(ratio):\n",
        "  for d in directory:\n",
        "    flist = []\n",
        "    d_path = path+d                                       # path that will lead us inside the directory\n",
        "    flist = os.listdir(d_path)                            # this will list all the files in the folder 'd'\n",
        "\n",
        "    random.shuffle(flist)                                 # shuffling the files present in the class\n",
        "\n",
        "    train = flist[:int((len(flist)+1)*(ratio/100))]       # 80% to training set\n",
        "    test = flist[int(len(flist)*(ratio/100)):]\n",
        "\n",
        "    for i in train:\n",
        "      train_data.append(d+'/'+i)\n",
        "\n",
        "    for i in test:    \n",
        "      test_data.append(d+'/'+i)\n",
        "    \n",
        "  random.shuffle(train_data)\n",
        "  random.shuffle(test_data)"
      ],
      "execution_count": 0,
      "outputs": []
    },
    {
      "cell_type": "code",
      "metadata": {
        "id": "JPJKtb6zEDig",
        "colab_type": "code",
        "colab": {}
      },
      "source": [
        "# Enter the split ratio of the dataset in the function as a parameter. The ratio used here is 80:20\n",
        "split_train_test(80)"
      ],
      "execution_count": 0,
      "outputs": []
    },
    {
      "cell_type": "markdown",
      "metadata": {
        "id": "kikW8Nkbwbom",
        "colab_type": "text"
      },
      "source": [
        "###TRAINING PART"
      ]
    },
    {
      "cell_type": "markdown",
      "metadata": {
        "id": "hMBEF5VH6Xyi",
        "colab_type": "text"
      },
      "source": [
        "**Building vocabulary**\\\n",
        "and\\\n",
        "**Dictionary of tokens**"
      ]
    },
    {
      "cell_type": "code",
      "metadata": {
        "id": "Qtg4gsLg1zDk",
        "colab_type": "code",
        "colab": {}
      },
      "source": [
        "def build_dictionaries(train_data):\n",
        "\n",
        "  vocab = set()\n",
        "  tokens_dict = defaultdict(list)                           #dictionary that stores tokens of each class\n",
        "\n",
        "  wd_count = defaultdict(lambda:defaultdict(lambda:0))      # dictionary that stores count(term,class) i.e. tf\n",
        "  w_count = defaultdict(lambda:0)                           # dictionary that stores df(term)\n",
        "\n",
        "  for item in train_data:\n",
        "    d = mapping[item].split('_')[1]        # fetching the directory name from the mapping dict\n",
        "    \n",
        "    d_path = path + d                      # path that will lead us inside the directory\n",
        "\n",
        "    f = item.split('/')[1]                 # fetching file name from the item in train_data\n",
        "    \n",
        "    meta_data(d_path,f)\n",
        "    pre_p = pre_process(d_path+'/'+f)\n",
        "    lemmas = tokenise(pre_p)\n",
        "   \n",
        "    for term in lemmas:\n",
        "      term = numberTowords(term)\n",
        "      vocab.add(term)\n",
        "      tokens_dict[d].append(term)\n",
        "      wd_count[d][term] += 1\n",
        "    \n",
        "  for d in directory:\n",
        "    for word in vocab:\n",
        "      if word in tokens_dict[d]:\n",
        "        w_count[word] += 1\n",
        "\n",
        "  return vocab,tokens_dict,wd_count,w_count"
      ],
      "execution_count": 0,
      "outputs": []
    },
    {
      "cell_type": "code",
      "metadata": {
        "id": "8-0YFntr_lyG",
        "colab_type": "code",
        "colab": {}
      },
      "source": [
        "vocab,tokens_dict,wd_count,w_count = build_dictionaries(train_data)"
      ],
      "execution_count": 0,
      "outputs": []
    },
    {
      "cell_type": "markdown",
      "metadata": {
        "id": "xZxnQ2rrxCp0",
        "colab_type": "text"
      },
      "source": [
        "**calculating tf-idf scores**"
      ]
    },
    {
      "cell_type": "code",
      "metadata": {
        "id": "5lwRp873xCYm",
        "colab_type": "code",
        "colab": {}
      },
      "source": [
        "def compute_tf():\n",
        "  tf = defaultdict(lambda:defaultdict(lambda:0.0))\n",
        "  idf = defaultdict(lambda:0.0)\n",
        "\n",
        "  for i in wd_count:      # i takes values in directory\n",
        "    for j in wd_count[i]:  # takes values in vocab\n",
        "      temp = wd_count[i][j]\n",
        "      tf[i][j] = 1 + np.log((1 + temp)*1.0)\n",
        "\n",
        "  for j in w_count:   # j takes values in vocab\n",
        "    temp = 1 + w_count[j]\n",
        "    idf[j]= np.log((len(directory)*1.0/temp))\n",
        "  \n",
        "  return tf,idf\n",
        "\n",
        "\n",
        "tf,idf = compute_tf()"
      ],
      "execution_count": 0,
      "outputs": []
    },
    {
      "cell_type": "code",
      "metadata": {
        "id": "g9smYc4QxRWL",
        "colab_type": "code",
        "colab": {}
      },
      "source": [
        "def calc_tf_idf():\n",
        "  tf_idf = defaultdict(lambda:defaultdict(lambda:0.0))\n",
        "\n",
        "  for i in wd_count:  # i takes values in directory\n",
        "    for j in wd_count[i]: # j takes values in vocab\n",
        "      tf_idf[i][j] = tf[i][j] * idf[j]\n",
        "  \n",
        "  return tf_idf\n",
        "\n",
        "\n",
        "tf_idf = calc_tf_idf()"
      ],
      "execution_count": 0,
      "outputs": []
    },
    {
      "cell_type": "markdown",
      "metadata": {
        "id": "_UnkSElage4I",
        "colab_type": "text"
      },
      "source": [
        "**Selecting features based on tf-idf**"
      ]
    },
    {
      "cell_type": "code",
      "metadata": {
        "id": "qpcgkVVbgkOX",
        "colab_type": "code",
        "colab": {}
      },
      "source": [
        "def reduce_feature(k):\n",
        "  selected_features = defaultdict(list)\n",
        "\n",
        "  for d in directory:\n",
        "    toplist = heapq.nlargest(k, tf_idf[d].items(), key=lambda x: x[1]) # x[1] because we want to sort according to 2nd value of the tuple\n",
        "\n",
        "    for i in toplist:\n",
        "      selected_features[d].append(i[0])\n",
        "  \n",
        "  return selected_features"
      ],
      "execution_count": 0,
      "outputs": []
    },
    {
      "cell_type": "code",
      "metadata": {
        "id": "XFDLMv0sFV8n",
        "colab_type": "code",
        "colab": {}
      },
      "source": [
        "k = 8000\n",
        "selected_features = reduce_feature(k)"
      ],
      "execution_count": 0,
      "outputs": []
    },
    {
      "cell_type": "markdown",
      "metadata": {
        "id": "X2JhYmss6a-h",
        "colab_type": "text"
      },
      "source": [
        "**Creating tokens dictionary for the new feature space**"
      ]
    },
    {
      "cell_type": "code",
      "metadata": {
        "id": "vGzWVyqkPcRG",
        "colab_type": "code",
        "colab": {}
      },
      "source": [
        "def build_vocab():\n",
        "  new_vocab = set()\n",
        "\n",
        "  for d in directory:\n",
        "    for i in selected_features[d]:\n",
        "      new_vocab.add(i)\n",
        "  \n",
        "  return new_vocab\n",
        "\n",
        "\n",
        "new_vocab = build_vocab()"
      ],
      "execution_count": 0,
      "outputs": []
    },
    {
      "cell_type": "code",
      "metadata": {
        "id": "vPzOXz4L0ywR",
        "colab_type": "code",
        "outputId": "06d9db6f-699c-4922-ecf4-b641a1a77156",
        "colab": {
          "base_uri": "https://localhost:8080/",
          "height": 34
        }
      },
      "source": [
        "print(len(new_vocab))"
      ],
      "execution_count": 23,
      "outputs": [
        {
          "output_type": "stream",
          "text": [
            "33685\n"
          ],
          "name": "stdout"
        }
      ]
    },
    {
      "cell_type": "code",
      "metadata": {
        "id": "4OypsTOo6h_6",
        "colab_type": "code",
        "colab": {}
      },
      "source": [
        "def generate_tokens():\n",
        "  reduced_tokens = defaultdict(list)\n",
        "    \n",
        "  for d in directory:\n",
        "    for word in tokens_dict[d]:\n",
        "      if word in new_vocab:\n",
        "        reduced_tokens[d].append(word)\n",
        "  \n",
        "  return reduced_tokens\n",
        "\n",
        "\n",
        "reduced_tokens = generate_tokens()"
      ],
      "execution_count": 0,
      "outputs": []
    },
    {
      "cell_type": "markdown",
      "metadata": {
        "id": "eyabdvwl_6WN",
        "colab_type": "text"
      },
      "source": [
        "###CLASSIFICATION of TEST DATA\n"
      ]
    },
    {
      "cell_type": "markdown",
      "metadata": {
        "id": "Jkk-QJWCR_iV",
        "colab_type": "text"
      },
      "source": [
        "###### NAIVE BAYES"
      ]
    },
    {
      "cell_type": "markdown",
      "metadata": {
        "id": "xBd56ptbgW11",
        "colab_type": "text"
      },
      "source": [
        "**Calculating Probabilities**"
      ]
    },
    {
      "cell_type": "code",
      "metadata": {
        "id": "x7iWObfTgWAd",
        "colab_type": "code",
        "colab": {}
      },
      "source": [
        "#used add-one smoothing\n",
        "def store_prob():\n",
        "  log_prob = defaultdict(lambda:defaultdict(lambda:0.0))\n",
        "  for word in new_vocab:\n",
        "    for d in directory:\n",
        "      l1 = Counter(reduced_tokens[d])\n",
        "      count_word = l1[word] + 1\n",
        "      count_token = len(reduced_tokens[d]) + len(new_vocab)\n",
        "      \n",
        "      p_w = np.log((count_word*1.0/count_token))      \n",
        "      log_prob[word][d] = p_w\n",
        "    \n",
        "  return log_prob\n",
        "\n",
        "log_prob = store_prob()"
      ],
      "execution_count": 0,
      "outputs": []
    },
    {
      "cell_type": "markdown",
      "metadata": {
        "id": "DeF5u6os0U9f",
        "colab_type": "text"
      },
      "source": [
        " > **1. Naive Bayes**"
      ]
    },
    {
      "cell_type": "markdown",
      "metadata": {
        "id": "ETjnTZJxxM_N",
        "colab_type": "text"
      },
      "source": [
        "**Generate heat plot**"
      ]
    },
    {
      "cell_type": "code",
      "metadata": {
        "id": "TqTNWGM50oJR",
        "colab_type": "code",
        "colab": {}
      },
      "source": [
        "from sklearn.metrics import confusion_matrix\n",
        "\n",
        "def heat_plot(y_true,y_pred,matrix):\n",
        "  \n",
        "  labels = [\"rec.sport.hockey\",\"sci.med\",\"comp.graphics\",\"sci.space\",\"talk.politics.misc\"]\n",
        "\n",
        "  fig = plt.figure()\n",
        "  ax = fig.add_subplot(111)\n",
        "  cax = ax.matshow(matrix,cmap = 'tab20c')\n",
        "  fig.colorbar(cax)\n",
        "  ax.set_fc('y')\n",
        "  ax.set_xticklabels([''] + labels,rotation=30)\n",
        "  ax.set_yticklabels([''] + labels)\n",
        "\n",
        "  # Loop over data dimensions and create text annotations.\n",
        "  for i in range(5):\n",
        "    for j in range(5):\n",
        "      text = ax.text(j, i, matrix[i, j],ha=\"center\", va=\"center\", color=\"w\")\n",
        "  \n",
        "  fig.tight_layout()\n",
        "  plt.xlabel('Predicted')\n",
        "  plt.ylabel('True')\n",
        "  plt.show()"
      ],
      "execution_count": 0,
      "outputs": []
    },
    {
      "cell_type": "markdown",
      "metadata": {
        "id": "Ht7bloD9xTKd",
        "colab_type": "text"
      },
      "source": [
        "**Classifying test data**"
      ]
    },
    {
      "cell_type": "code",
      "metadata": {
        "id": "3B2QnCoV_6DQ",
        "colab_type": "code",
        "colab": {}
      },
      "source": [
        "from sklearn.metrics import confusion_matrix\n",
        "\n",
        "def find_class_NB(test_data):\n",
        "\n",
        "  p_c = np.log((1/5))                       # because each class is equally likely\n",
        "  correct = 0\n",
        "  y_true=[]\n",
        "  y_pred=[]\n",
        "\n",
        "  print(\"Split ratio of the data set = 80:20\")\n",
        "  for item in test_data:\n",
        "    \n",
        "    output_prob = []\n",
        "\n",
        "    d = mapping[item].split('_')[1]          # fetching the directory name from the mapping dict\n",
        "    label = d\n",
        "    # print(\"True Label =\",label)\n",
        "\n",
        "    d_path = path + d                        # path that will lead us inside the directory\n",
        "    f = item.split('/')[1]                   # fetching file name from the item in train_data\n",
        "    \n",
        "    meta_data(d_path,f)\n",
        "    pre_p = pre_process(d_path+'/'+f)\n",
        "    lemmas = tokenise(pre_p)\n",
        "\n",
        "    for d in directory:\n",
        "      prob = 0\n",
        "      for term in lemmas:\n",
        "        term = numberTowords(term)\n",
        "\n",
        "        if(term in new_vocab):\n",
        "          prob += log_prob[term][d]\n",
        "        else:\n",
        "          prob += np.log(1.0/(len(reduced_tokens[d]) + len(new_vocab)))\n",
        "      prob += p_c\n",
        "      output_prob.append((prob,d))\n",
        "\n",
        "    #print(output_prob)\n",
        "    predicted = max(output_prob)[1]\n",
        "\n",
        "    # print(\"predicted =\", predicted)\n",
        "\n",
        "    if(predicted == label):\n",
        "      correct +=1\n",
        "    y_true.append(label)\n",
        "    y_pred.append(predicted)\n",
        "\n",
        "  \n",
        "  print(\"Number of features selected using TF-IDF technique = \",k)\n",
        "  print(\"\\nTotal number of documents tested =\",len(test_data))\n",
        "  print(\"Number of documents correctly predicted =\",correct)\n",
        "\n",
        "  print(\"Accuracy = \", correct/len(test_data)*100)\n",
        "  c = confusion_matrix(y_true, y_pred, labels=directory)\n",
        "  print(\"\\nConfusion matrix::\\n\",c)\n",
        "  # print(c)\n",
        "  print()\n",
        "  heat_plot(y_true,y_pred,c)"
      ],
      "execution_count": 0,
      "outputs": []
    },
    {
      "cell_type": "code",
      "metadata": {
        "id": "gpXmzcocaTwr",
        "colab_type": "code",
        "outputId": "295c8ebe-0a95-463e-bae0-0d70e78b4022",
        "colab": {
          "base_uri": "https://localhost:8080/",
          "height": 543
        }
      },
      "source": [
        "find_class_NB(test_data)"
      ],
      "execution_count": 30,
      "outputs": [
        {
          "output_type": "stream",
          "text": [
            "Split ratio of the data set = 80:20\n",
            "Number of features selected using TF-IDF technique =  8000\n",
            "\n",
            "Total number of documents tested = 1000\n",
            "Number of documents correctly predicted = 923\n",
            "Accuracy =  92.30000000000001\n",
            "\n",
            "Confusion matrix::\n",
            " [[184   0   6   1   9]\n",
            " [  0 175   8   5  12]\n",
            " [  2   2 189   5   2]\n",
            " [  0   2   9 181   8]\n",
            " [  0   3   2   1 194]]\n",
            "\n"
          ],
          "name": "stdout"
        },
        {
          "output_type": "display_data",
          "data": {
            "image/png": "[encoded data removed]",
            "text/plain": [
              "<Figure size 432x288 with 2 Axes>"
            ]
          },
          "metadata": {
            "tags": [],
            "needs_background": "light"
          }
        }
      ]
    },
    {
      "cell_type": "markdown",
      "metadata": {
        "id": "_DJpBAoP7EUY",
        "colab_type": "text"
      },
      "source": [
        "###### K- NN"
      ]
    },
    {
      "cell_type": "markdown",
      "metadata": {
        "id": "NvGya_sc0G1T",
        "colab_type": "text"
      },
      "source": [
        " > **2. k-Nearest Neighbour**"
      ]
    },
    {
      "cell_type": "markdown",
      "metadata": {
        "id": "BngB2Rr5V6Ro",
        "colab_type": "text"
      },
      "source": [
        "**new tf-idf**"
      ]
    },
    {
      "cell_type": "code",
      "metadata": {
        "id": "TeZGEH3caBEY",
        "colab_type": "code",
        "colab": {}
      },
      "source": [
        "def build_tf(train_data):\n",
        "  tf = defaultdict(lambda:defaultdict(lambda:0))\n",
        "  doc_list = defaultdict(list)\n",
        "\n",
        "  for d in directory:\n",
        "    flist = []\n",
        "    d_path = path+d                   # path that will lead us inside the directory\n",
        "    flist = os.listdir(d_path)        # this will list all the files in the folder 'd'    \n",
        "    \n",
        "    for f in flist:\n",
        "      i = d+'/'+f\n",
        "      if i in train_data:\n",
        "        doc_list[d].append(f)\n",
        "        sf = selected_features[d]\n",
        "\n",
        "        meta_data(d_path,f)\n",
        "        pre_p = pre_process(d_path+'/'+f)\n",
        "        lemmas = tokenise(pre_p)\n",
        "\n",
        "        for term in lemmas:\n",
        "          term = numberTowords(term)\n",
        "\n",
        "          if term in sf:\n",
        "            tf[i][term] +=1\n",
        "  \n",
        "  return tf,doc_list"
      ],
      "execution_count": 0,
      "outputs": []
    },
    {
      "cell_type": "code",
      "metadata": {
        "id": "YgBsaQbTeEev",
        "colab_type": "code",
        "colab": {}
      },
      "source": [
        "tf_dict,docs = build_tf(train_data)"
      ],
      "execution_count": 0,
      "outputs": []
    },
    {
      "cell_type": "markdown",
      "metadata": {
        "id": "jOOpbhpS4JBB",
        "colab_type": "text"
      },
      "source": [
        "**Generate document vector**"
      ]
    },
    {
      "cell_type": "code",
      "metadata": {
        "id": "5HOINw7p4Iwt",
        "colab_type": "code",
        "colab": {}
      },
      "source": [
        "def document_vector(file):\n",
        "  tf_values = tf_dict[file]\n",
        "  d_vector = np.zeros(len(new_vocab))\n",
        "  \n",
        "  for pos,w in enumerate(new_vocab):\n",
        "    d_vector[pos] = tf_values[w]\n",
        "  \n",
        "  return d_vector"
      ],
      "execution_count": 0,
      "outputs": []
    },
    {
      "cell_type": "markdown",
      "metadata": {
        "id": "j36AkkuKw8Pg",
        "colab_type": "text"
      },
      "source": [
        "**Generate test vector**"
      ]
    },
    {
      "cell_type": "code",
      "metadata": {
        "id": "2zQfb2HorhW-",
        "colab_type": "code",
        "colab": {}
      },
      "source": [
        "def test_vector(file_path):\n",
        "  test_tf = defaultdict(lambda:0)\n",
        "\n",
        "  pre_p = pre_process(file_path)\n",
        "  lemmas = tokenise(pre_p)\n",
        "\n",
        "  for w in lemmas:\n",
        "    w = numberTowords(w)\n",
        "    test_tf[w] +=1\n",
        "  \n",
        "  t_vector = np.zeros(len(new_vocab))\n",
        "\n",
        "  for pos,w in enumerate(new_vocab):\n",
        "    t_vector[pos] = test_tf[w]\n",
        "\n",
        "  return t_vector"
      ],
      "execution_count": 0,
      "outputs": []
    },
    {
      "cell_type": "markdown",
      "metadata": {
        "id": "TDturPtS4ZCu",
        "colab_type": "text"
      },
      "source": [
        "**Compute Euclidean distance**"
      ]
    },
    {
      "cell_type": "code",
      "metadata": {
        "id": "jIeJVX734c-M",
        "colab_type": "code",
        "colab": {}
      },
      "source": [
        "def compute_euclidean(t_vector,d_vector):\n",
        "  diff = t_vector - d_vector\n",
        "  diff = diff * diff\n",
        "\n",
        "  dist = np.sqrt(np.sum(diff))\n",
        "\n",
        "  return dist"
      ],
      "execution_count": 0,
      "outputs": []
    },
    {
      "cell_type": "markdown",
      "metadata": {
        "id": "_WU5EQeXxA7B",
        "colab_type": "text"
      },
      "source": [
        "**Classifying test data**"
      ]
    },
    {
      "cell_type": "code",
      "metadata": {
        "id": "yLQnxqy9y5YX",
        "colab_type": "code",
        "colab": {}
      },
      "source": [
        "def knn(k,result):\n",
        "  prediction = []\n",
        "\n",
        "  res = heapq.nsmallest(k, result, key=lambda x: x[0])\n",
        "  \n",
        "  for i in res:\n",
        "    predicted = i[1].split('/')[0]\n",
        "    prediction.append(predicted)\n",
        "    \n",
        "  return prediction"
      ],
      "execution_count": 0,
      "outputs": []
    },
    {
      "cell_type": "code",
      "metadata": {
        "id": "gGuhZ6W7YiBu",
        "colab_type": "code",
        "colab": {}
      },
      "source": [
        "def find_class_knn(test_data):\n",
        "  \n",
        "  print(\"Split ratio of the data set = 50:50\")\n",
        "  n=3\n",
        "  print(\"\\nRESULTS OF K-NN FOR k =\",n,\"\\n\")\n",
        "  correct = 0\n",
        "  y_true = []\n",
        "  y_pred = []\n",
        "  count = 0\n",
        "  for item in test_data:\n",
        "    d = item.split('/')[0]                   # fetching the directory name from the mapping dict\n",
        "    f = item.split('/')[1]                   # fetching file name from the item in train_data\n",
        "\n",
        "    label = d\n",
        "    y_true.append(label)\n",
        "    # print(\"\\nTrue Label =\",label)\n",
        "\n",
        "    d_path = path + d                        # path that will lead us inside the directory\n",
        "    \n",
        "    t_vector = test_vector(d_path+'/'+f)            # generate test vector\n",
        "    output_dist = []\n",
        "    \n",
        "    for d in directory:\n",
        "      for f in docs[d]:\n",
        "        d_vector = document_vector(d+'/'+f)\n",
        "\n",
        "        dist = compute_euclidean(t_vector,d_vector)\n",
        "        output_dist.append((dist,d+'/'+f))\n",
        "    result = knn(n,output_dist)\n",
        "    predicted = max(set(result), key = result.count)          #finds the class that occurs max times\n",
        "    y_pred.append(predicted)\n",
        "    # print(\"Predicted Label = \",predicted)\n",
        "\n",
        "    if(predicted==label):\n",
        "      correct+=1\n",
        "\n",
        "  print(\"Number of features selected using tf-idf technique = \",k)\n",
        "  print(\"\\nTotal number of documents tested =\",len(test_data))\n",
        "  print(\"Number of documents correctly predicted =\",correct)\n",
        "  \n",
        "  print(\"Accuracy = \", correct/len(test_data)*100)\n",
        "  c = confusion_matrix(y_true, y_pred, labels=directory)\n",
        "  print(\"\\nConfusion matrix::\\n\",c)\n",
        "  print()\n",
        "  heat_plot(y_true,y_pred,c)\n"
      ],
      "execution_count": 0,
      "outputs": []
    },
    {
      "cell_type": "code",
      "metadata": {
        "id": "JASzDdWK5swq",
        "colab_type": "code",
        "colab": {}
      },
      "source": [
        "find_class_knn(test_data)"
      ],
      "execution_count": 0,
      "outputs": []
    },
    {
      "cell_type": "code",
      "metadata": {
        "id": "9Fg4-BU-3JGA",
        "colab_type": "code",
        "colab": {}
      },
      "source": [
        ""
      ],
      "execution_count": 0,
      "outputs": []
    }
  ]
}